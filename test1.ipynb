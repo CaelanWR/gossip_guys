{
  "cells": [
    {
      "cell_type": "code",
      "execution_count": 1,
      "id": "6bfb82b0-1c86-47f0-b45e-6021a3833f3b",
      "metadata": {
        "id": "6bfb82b0-1c86-47f0-b45e-6021a3833f3b",
        "outputId": "e327bd78-8c9a-4fcf-e366-fcdd5bdde284",
        "colab": {
          "base_uri": "https://localhost:8080/"
        }
      },
      "outputs": [
        {
          "output_type": "stream",
          "name": "stdout",
          "text": [
            "hello world\n"
          ]
        }
      ],
      "source": [
        "print(\"hello world\")"
      ]
    },
    {
      "cell_type": "code",
      "execution_count": 2,
      "id": "d466670d-c7e7-42a6-9458-cee6e5e13fab",
      "metadata": {
        "id": "d466670d-c7e7-42a6-9458-cee6e5e13fab",
        "outputId": "96a1c5b3-38e4-453c-9217-b62b4f0d939a",
        "colab": {
          "base_uri": "https://localhost:8080/"
        }
      },
      "outputs": [
        {
          "output_type": "execute_result",
          "data": {
            "text/plain": [
              "2"
            ]
          },
          "metadata": {},
          "execution_count": 2
        }
      ],
      "source": [
        "1+1"
      ]
    },
    {
      "cell_type": "code",
      "source": [
        ""
      ],
      "metadata": {
        "id": "losLte-evpwd"
      },
      "id": "losLte-evpwd",
      "execution_count": null,
      "outputs": []
    }
  ],
  "metadata": {
    "kernelspec": {
      "display_name": "Python 3 (ipykernel)",
      "language": "python",
      "name": "python3"
    },
    "language_info": {
      "codemirror_mode": {
        "name": "ipython",
        "version": 3
      },
      "file_extension": ".py",
      "mimetype": "text/x-python",
      "name": "python",
      "nbconvert_exporter": "python",
      "pygments_lexer": "ipython3",
      "version": "3.9.7"
    },
    "colab": {
      "name": "test1.ipynb",
      "provenance": []
    }
  },
  "nbformat": 4,
  "nbformat_minor": 5
}