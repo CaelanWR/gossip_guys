{
  "nbformat": 4,
  "nbformat_minor": 0,
  "metadata": {
    "colab": {
      "name": "H&DGame.ipynb",
      "provenance": [],
      "collapsed_sections": [],
      "authorship_tag": "ABX9TyO1zJuRF8Waam4qOxzFywAd",
      "include_colab_link": true
    },
    "kernelspec": {
      "name": "python3",
      "display_name": "Python 3"
    },
    "language_info": {
      "name": "python"
    }
  },
  "cells": [
    {
      "cell_type": "markdown",
      "metadata": {
        "id": "view-in-github",
        "colab_type": "text"
      },
      "source": [
        "<a href=\"https://colab.research.google.com/github/CaelanWR/Dames-n-Grains-the-Game/blob/main/H%26DGame.ipynb\" target=\"_parent\"><img src=\"https://colab.research.google.com/assets/colab-badge.svg\" alt=\"Open In Colab\"/></a>"
      ]
    },
    {
      "cell_type": "code",
      "source": [
        "from random import choice\n",
        "import numpy as np"
      ],
      "metadata": {
        "id": "NSy1NupCTSVu"
      },
      "execution_count": 12,
      "outputs": []
    },
    {
      "cell_type": "code",
      "execution_count": 60,
      "metadata": {
        "id": "VweQ8MCfTKU9"
      },
      "outputs": [],
      "source": [
        "class dove:\n",
        "  def __init__(self,fitness):\n",
        "    self.fitness = fitness\n",
        "  def get_fitness(self):\n",
        "    return self.fitness\n",
        "  def set_fitness(self,fitness):\n",
        "    self.fitness=fitness\n"
      ]
    },
    {
      "cell_type": "code",
      "source": [
        "class hawk:\n",
        "  def __init__(self,fitness):\n",
        "    self.fitness = fitness\n",
        "  def get_fitness(self):\n",
        "    return self.fitness\n",
        "  def set_fitness(self,fitness):\n",
        "    self.fitness=fitness\n",
        "\n"
      ],
      "metadata": {
        "id": "4jarBXrtG1XZ"
      },
      "execution_count": 59,
      "outputs": []
    },
    {
      "cell_type": "code",
      "source": [
        "d = dove(1)\n",
        "h = hawk(1)\n",
        "\n",
        "c = 2\n",
        "v = 3\n",
        "\n",
        "payoffs = np.zeros((2, 2), dtype=[('x', 'float'), ('y', 'float')])\n",
        "payoffs [0][0] = ((v/2)- c, (v/2)- c)\n",
        "payoffs [0][1] = (0,v)\n",
        "payoffs [1][0] = (v,0)\n",
        "payoffs [1][1] = ((v/2),(v/2))\n",
        "\n",
        "print(payoffs [0][1])\n",
        "print(payoffs [1][0])\n",
        "print(payoffs [0][0])\n",
        "print(payoffs [1][1])"
      ],
      "metadata": {
        "colab": {
          "base_uri": "https://localhost:8080/"
        },
        "id": "8cKZj2vVm8Zy",
        "outputId": "a5400340-ca07-45f6-e979-bc0c62561034"
      },
      "execution_count": 15,
      "outputs": [
        {
          "output_type": "stream",
          "name": "stdout",
          "text": [
            "(0., 3.)\n",
            "(3., 0.)\n",
            "(-0.5, -0.5)\n",
            "(1.5, 1.5)\n"
          ]
        }
      ]
    },
    {
      "cell_type": "code",
      "source": [
        "class nest:\n",
        "  def __init__(self,name):\n",
        "    self.population = []\n",
        "\n",
        "  def add_bird(self,individual):\n",
        "      self.population.append(individual)\n",
        "    \n",
        "\n",
        "\n"
      ],
      "metadata": {
        "id": "965--KzK31VX"
      },
      "execution_count": 122,
      "outputs": []
    },
    {
      "cell_type": "code",
      "source": [
        "h1 = hawk(10)\n",
        "h2 = hawk(20)\n",
        "nest = nest(\"nesty\")\n",
        "nest.add_bird(h1)"
      ],
      "metadata": {
        "id": "3P4USVaEtPQe"
      },
      "execution_count": 124,
      "outputs": []
    },
    {
      "cell_type": "code",
      "source": [
        "nest.add_bird(h1)"
      ],
      "metadata": {
        "id": "T7yxf89Gmbbb"
      },
      "execution_count": 125,
      "outputs": []
    },
    {
      "cell_type": "code",
      "source": [
        "\n",
        "def food_fight(bird1,bird2):\n",
        "  bird1 = choice(nest)\n",
        "  bird2 = choice(nest)\n",
        "  if bird1 == h and bird2 == h:\n",
        "    return('nooooo')\n",
        "  elif bird1== h and bird2 == d:\n",
        "    return('hiiiiii')\n",
        "  elif bird1 == d and bird2 == d:\n",
        "    return('yooooo')\n",
        "  elif bird1 == d and bird2 == h:\n",
        "    return('yup')\n"
      ],
      "metadata": {
        "id": "grxLYSwecHZI"
      },
      "execution_count": 17,
      "outputs": []
    },
    {
      "cell_type": "code",
      "source": [
        ""
      ],
      "metadata": {
        "colab": {
          "base_uri": "https://localhost:8080/",
          "height": 168
        },
        "id": "AHWwSERbGcHw",
        "outputId": "7d1285ae-5d49-43b4-fe9e-377f7fa30a38"
      },
      "execution_count": 18,
      "outputs": [
        {
          "output_type": "error",
          "ename": "NameError",
          "evalue": "ignored",
          "traceback": [
            "\u001b[0;31m---------------------------------------------------------------------------\u001b[0m",
            "\u001b[0;31mNameError\u001b[0m                                 Traceback (most recent call last)",
            "\u001b[0;32m<ipython-input-18-eccd7cfe2f89>\u001b[0m in \u001b[0;36m<module>\u001b[0;34m()\u001b[0m\n\u001b[0;32m----> 1\u001b[0;31m \u001b[0mfood_fight\u001b[0m\u001b[0;34m(\u001b[0m\u001b[0mbird1\u001b[0m\u001b[0;34m,\u001b[0m\u001b[0mbird2\u001b[0m\u001b[0;34m)\u001b[0m\u001b[0;34m\u001b[0m\u001b[0;34m\u001b[0m\u001b[0m\n\u001b[0m",
            "\u001b[0;31mNameError\u001b[0m: name 'bird1' is not defined"
          ]
        }
      ]
    }
  ]
}