{
  "nbformat": 4,
  "nbformat_minor": 0,
  "metadata": {
    "colab": {
      "name": "H&DGame.ipynb",
      "provenance": [],
      "collapsed_sections": [],
      "authorship_tag": "ABX9TyNjWzKZVMl1jnaLBXxzKA68",
      "include_colab_link": true
    },
    "kernelspec": {
      "name": "python3",
      "display_name": "Python 3"
    },
    "language_info": {
      "name": "python"
    }
  },
  "cells": [
    {
      "cell_type": "markdown",
      "metadata": {
        "id": "view-in-github",
        "colab_type": "text"
      },
      "source": [
        "<a href=\"https://colab.research.google.com/github/CaelanWR/gossip_guys/blob/main/H%26DGame.ipynb\" target=\"_parent\"><img src=\"https://colab.research.google.com/assets/colab-badge.svg\" alt=\"Open In Colab\"/></a>"
      ]
    },
    {
      "cell_type": "code",
      "source": [
        "from random import choice\n",
        "import numpy as np"
      ],
      "metadata": {
        "id": "NSy1NupCTSVu"
      },
      "execution_count": 11,
      "outputs": []
    },
    {
      "cell_type": "code",
      "execution_count": 12,
      "metadata": {
        "id": "VweQ8MCfTKU9"
      },
      "outputs": [],
      "source": [
        "class dove:\n",
        "  def __init__(self,fitness):\n",
        "    self.fitness = fitness\n",
        "  def get_fitness(self):\n",
        "    return self.fitness\n",
        "  def set_fitness(self,fitness):\n",
        "    self.fitness=fitness\n"
      ]
    },
    {
      "cell_type": "code",
      "source": [
        "class hawk:\n",
        "  def __init__(self,fitness):\n",
        "    self.fitness = fitness\n",
        "  def get_fitness(self):\n",
        "    return self.fitness\n",
        "  def set_fitness(self,fitness):\n",
        "    self.fitness=fitness\n"
      ],
      "metadata": {
        "id": "4jarBXrtG1XZ"
      },
      "execution_count": 13,
      "outputs": []
    },
    {
      "cell_type": "code",
      "source": [
        "d = dove(1)\n",
        "h = hawk(1)\n",
        "\n",
        "c = 2\n",
        "v = 3\n",
        "\n",
        "payoffs = np.zeros((2, 2), dtype=[('x', 'float'), ('y', 'float')])\n",
        "payoffs [0][0] = ((v/2)- c, (v/2)- c)\n",
        "payoffs [0][1] = (0,v)\n",
        "payoffs [1][0] = (v,0)\n",
        "payoffs [1][1] = ((v/2),(v/2))\n",
        "\n",
        "print(payoffs [0][1])\n",
        "print(payoffs [1][0])\n",
        "print(payoffs [0][0])\n",
        "print(payoffs [1][1])"
      ],
      "metadata": {
        "colab": {
          "base_uri": "https://localhost:8080/"
        },
        "id": "8cKZj2vVm8Zy",
        "outputId": "c270abff-fdef-4b50-c39a-98d66e63c4d5"
      },
      "execution_count": 14,
      "outputs": [
        {
          "output_type": "stream",
          "name": "stdout",
          "text": [
            "(0., 3.)\n",
            "(3., 0.)\n",
            "(-0.5, -0.5)\n",
            "(1.5, 1.5)\n"
          ]
        }
      ]
    },
    {
      "cell_type": "code",
      "source": [
        "class nest:\n",
        "  def __init__(self,name):\n",
        "    self.population = []\n",
        "\n",
        "  def add_bird(self,individual):\n",
        "      self.population.append(individual)\n",
        "  def get_avefit(self):\n",
        "    value = 0\n",
        "    for individual in self.population:\n",
        "      value += individual.get_fitness()\n",
        "    \n",
        "    return (value/len(self.population))\n",
        "  \n",
        "  def get_hfit(self):\n",
        "    value = 0\n",
        "    for individual in self.population:\n",
        "      if individual == h1:\n",
        "        value += individual.get_fitness()\n",
        "    return (value/self.population.count(h1))\n",
        "\n",
        "  def get_dfit(self):\n",
        "    value = 0\n",
        "    for individual in self.population:\n",
        "      if individual == d1:\n",
        "        value += individual.get_fitness()\n",
        "    \n",
        "    return (value/self.population.count(d1))\n",
        "  \n",
        "  def bird1_picker(self):\n",
        "    bird1 = choice(self.population)\n",
        "    return(bird1)\n",
        "  def bird2_picker(self):\n",
        "    bird2 = choice(self.population)\n",
        "    return(bird2)\n",
        "  "
      ],
      "metadata": {
        "id": "965--KzK31VX"
      },
      "execution_count": 15,
      "outputs": []
    },
    {
      "cell_type": "code",
      "source": [
        "hawkfit = 1\n",
        "dovefit = 1\n",
        "h1 = hawk(hawkfit)\n",
        "d1 = dove(dovefit)\n",
        "nest = nest(\"nesty\")\n",
        "for i in range (30):\n",
        "  nest.add_bird(h1)\n",
        "for i in range (30):\n",
        "  nest.add_bird(d1)"
      ],
      "metadata": {
        "id": "3P4USVaEtPQe"
      },
      "execution_count": 16,
      "outputs": []
    },
    {
      "cell_type": "code",
      "source": [
        "print(nest.get_avefit())\n",
        "print(nest.get_hfit())\n",
        "print(nest.get_dfit())\n",
        "print(nest.bird1_picker())\n",
        "print(nest.bird2_picker())"
      ],
      "metadata": {
        "colab": {
          "base_uri": "https://localhost:8080/"
        },
        "id": "IdqrBi_55RvV",
        "outputId": "a1b0b432-71f7-47e9-fc22-bde81eb15c4b"
      },
      "execution_count": 17,
      "outputs": [
        {
          "output_type": "stream",
          "name": "stdout",
          "text": [
            "1.0\n",
            "1.0\n",
            "1.0\n",
            "<__main__.dove object at 0x7f63e7b08650>\n",
            "<__main__.dove object at 0x7f63e7b08650>\n"
          ]
        }
      ]
    },
    {
      "cell_type": "code",
      "source": [
        "def food_fight():\n",
        "  c = 2\n",
        "  v = 3\n",
        "  for i in range (100):\n",
        "    bird1=nest.bird1_picker()\n",
        "    bird2=nest.bird2_picker()\n",
        "\n",
        "    if bird1 == h1 and bird2 == h1:\n",
        "      bird1.set_fitness((v/2)- c)\n",
        "      bird2.set_fitness((v/2)- c)\n",
        "  \n",
        "    elif bird1 == h1 and bird2 == d1:\n",
        "      bird1.set_fitness(v)\n",
        "      bird2.set_fitness(0)\n",
        "  \n",
        "    elif bird1 == d1 and bird2 == h1:\n",
        "     bird1.set_fitness(0)\n",
        "     bird2.set_fitness(v)\n",
        "\n",
        "    elif bird1 == d1 and bird2 == d1:\n",
        "     bird1.set_fitness(v/2)\n",
        "     bird2.set_fitness(v/2)"
      ],
      "metadata": {
        "id": "aY9zAMEbO2Dg"
      },
      "execution_count": 69,
      "outputs": []
    },
    {
      "cell_type": "code",
      "source": [
        "for i in range (1):\n",
        "  food_fight()\n",
        "print(nest.get_avefit())\n",
        "print(nest.get_hfit())\n",
        "print(nest.get_dfit())\n"
      ],
      "metadata": {
        "id": "6MflCvfF3YCO",
        "outputId": "05acb344-fedf-44c4-a57b-6bdb0279f482",
        "colab": {
          "base_uri": "https://localhost:8080/"
        }
      },
      "execution_count": 73,
      "outputs": [
        {
          "output_type": "stream",
          "name": "stdout",
          "text": [
            "-0.25\n",
            "-0.5\n",
            "0.0\n"
          ]
        }
      ]
    },
    {
      "cell_type": "code",
      "source": [
        ""
      ],
      "metadata": {
        "id": "WaevDpmp5s5I"
      },
      "execution_count": 19,
      "outputs": []
    },
    {
      "cell_type": "code",
      "source": [
        "\n",
        "def counter():\n",
        "  h = 0\n",
        "  d = 0\n",
        "  for i in range (100000):\n",
        "    bird1=nest.bird1_picker()\n",
        "    if bird1 == h1:\n",
        "      h += 1\n",
        "    elif bird1 == d1:\n",
        "      d += 1    \n",
        "  return(h)\n"
      ],
      "metadata": {
        "id": "grxLYSwecHZI"
      },
      "execution_count": 20,
      "outputs": []
    },
    {
      "cell_type": "code",
      "source": [
        "def ave():\n",
        "  val = 0\n",
        "  for i in range (10):\n",
        "    val += counter()\n",
        "  return(val/100)"
      ],
      "metadata": {
        "id": "AHWwSERbGcHw"
      },
      "execution_count": 74,
      "outputs": []
    },
    {
      "cell_type": "code",
      "source": [
        "ave()"
      ],
      "metadata": {
        "colab": {
          "base_uri": "https://localhost:8080/"
        },
        "id": "xewJd16LNpqx",
        "outputId": "67bd58b5-1345-4d2d-cfa2-8af9cc72475b"
      },
      "execution_count": 76,
      "outputs": [
        {
          "output_type": "execute_result",
          "data": {
            "text/plain": [
              "4992.83"
            ]
          },
          "metadata": {},
          "execution_count": 76
        }
      ]
    }
  ]
}