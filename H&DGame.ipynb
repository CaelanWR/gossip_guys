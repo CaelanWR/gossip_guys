{
  "nbformat": 4,
  "nbformat_minor": 0,
  "metadata": {
    "colab": {
      "name": "H&DGame.ipynb",
      "provenance": [],
      "collapsed_sections": [],
      "authorship_tag": "ABX9TyPcVLp1sAmKueOSOeO8EkXF",
      "include_colab_link": true
    },
    "kernelspec": {
      "name": "python3",
      "display_name": "Python 3"
    },
    "language_info": {
      "name": "python"
    }
  },
  "cells": [
    {
      "cell_type": "markdown",
      "metadata": {
        "id": "view-in-github",
        "colab_type": "text"
      },
      "source": [
        "<a href=\"https://colab.research.google.com/github/CaelanWR/gossip_guys/blob/main/H%26DGame.ipynb\" target=\"_parent\"><img src=\"https://colab.research.google.com/assets/colab-badge.svg\" alt=\"Open In Colab\"/></a>"
      ]
    },
    {
      "cell_type": "code",
      "source": [
        "from random import choice\n",
        "import numpy as np"
      ],
      "metadata": {
        "id": "NSy1NupCTSVu"
      },
      "execution_count": 67,
      "outputs": []
    },
    {
      "cell_type": "code",
      "execution_count": 68,
      "metadata": {
        "id": "VweQ8MCfTKU9"
      },
      "outputs": [],
      "source": [
        "class dove:\n",
        "  def __init__(self,fitness):\n",
        "    self.fitness = fitness\n",
        "  def get_fitness(self):\n",
        "    return self.fitness\n",
        "  def set_fitness(self,fitness):\n",
        "    self.fitness=fitness\n"
      ]
    },
    {
      "cell_type": "code",
      "source": [
        "class hawk:\n",
        "  def __init__(self,fitness):\n",
        "    self.fitness = fitness\n",
        "  def get_fitness(self):\n",
        "    return self.fitness\n",
        "  def set_fitness(self,fitness):\n",
        "    self.fitness=fitness\n"
      ],
      "metadata": {
        "id": "4jarBXrtG1XZ"
      },
      "execution_count": 69,
      "outputs": []
    },
    {
      "cell_type": "code",
      "source": [
        "d = dove(1)\n",
        "h = hawk(1)\n",
        "\n",
        "c = 2\n",
        "v = 3\n",
        "\n",
        "payoffs = np.zeros((2, 2), dtype=[('x', 'float'), ('y', 'float')])\n",
        "payoffs [0][0] = ((v/2)- c, (v/2)- c)\n",
        "payoffs [0][1] = (0,v)\n",
        "payoffs [1][0] = (v,0)\n",
        "payoffs [1][1] = ((v/2),(v/2))\n",
        "\n",
        "print(payoffs [0][1])\n",
        "print(payoffs [1][0])\n",
        "print(payoffs [0][0])\n",
        "print(payoffs [1][1])"
      ],
      "metadata": {
        "colab": {
          "base_uri": "https://localhost:8080/"
        },
        "id": "8cKZj2vVm8Zy",
        "outputId": "fced9bcb-d749-4224-c063-cf3431debdbd"
      },
      "execution_count": 70,
      "outputs": [
        {
          "output_type": "stream",
          "name": "stdout",
          "text": [
            "(0., 3.)\n",
            "(3., 0.)\n",
            "(-0.5, -0.5)\n",
            "(1.5, 1.5)\n"
          ]
        }
      ]
    },
    {
      "cell_type": "code",
      "source": [
        "class nest:\n",
        "  def __init__(self,name):\n",
        "    self.population = []\n",
        "\n",
        "  def add_bird(self,individual):\n",
        "      self.population.append(individual)\n",
        "  def get_avefit(self):\n",
        "    value = 0\n",
        "    for individual in self.population:\n",
        "      value += individual.get_fitness()\n",
        "    \n",
        "    return (value/len(self.population))\n",
        "  \n",
        "  def get_hfit(self):\n",
        "    value = 0\n",
        "    for individual in self.population:\n",
        "      if individual == h1:\n",
        "        value += individual.get_fitness()\n",
        "    return (value/self.population.count(h1))\n",
        "\n",
        "  def get_dfit(self):\n",
        "    value = 0\n",
        "    for individual in self.population:\n",
        "      if individual == d1:\n",
        "        value += individual.get_fitness()\n",
        "    \n",
        "    return (value/self.population.count(d1))\n",
        "  \n",
        "  def bird1_picker(self):\n",
        "    bird1 = choice(self.population)\n",
        "    return(bird1)\n",
        "  def bird2_picker(self):\n",
        "    bird2 = choice(self.population)\n",
        "    return(bird2)\n",
        "  "
      ],
      "metadata": {
        "id": "965--KzK31VX"
      },
      "execution_count": 261,
      "outputs": []
    },
    {
      "cell_type": "code",
      "source": [
        "hawkfit = 10\n",
        "dovefit = 10\n",
        "h1 = hawk(hawkfit)\n",
        "d1 = dove(dovefit)\n",
        "nest = nest(\"nesty\")\n",
        "for i in range (3):\n",
        "  nest.add_bird(h1)\n",
        "for i in range (3):\n",
        "  nest.add_bird(d1)"
      ],
      "metadata": {
        "id": "3P4USVaEtPQe"
      },
      "execution_count": 262,
      "outputs": []
    },
    {
      "cell_type": "code",
      "source": [
        "print (nest.get_avefit())\n",
        "print(nest.get_hfit())\n",
        "print(nest.get_dfit())\n",
        "print(nest.bird1_picker())\n",
        "print(nest.bird2_picker())"
      ],
      "metadata": {
        "colab": {
          "base_uri": "https://localhost:8080/"
        },
        "id": "IdqrBi_55RvV",
        "outputId": "818aa7af-c8bb-48af-d04f-89e70e9b9edc"
      },
      "execution_count": 263,
      "outputs": [
        {
          "output_type": "stream",
          "name": "stdout",
          "text": [
            "10.0\n",
            "10.0\n",
            "10.0\n",
            "<__main__.hawk object at 0x7f6902744110>\n",
            "<__main__.dove object at 0x7f6902744790>\n"
          ]
        }
      ]
    },
    {
      "cell_type": "code",
      "source": [
        "c = 2\n",
        "v = 3\n",
        "for i in range (10):\n",
        "  bird1=nest.bird1_picker()\n",
        "  bird2=nest.bird2_picker()\n",
        "\n",
        "  if bird1 == h1 and bird2 == h1:\n",
        "    bird1.set_fitness((v/2)- c)\n",
        "    bird2.set_fitness((v/2)- c)\n",
        "  \n",
        "  elif bird1 == h1 and bird2 == d1:\n",
        "    bird1.set_fitness(v)\n",
        "    bird2.set_fitness(0)\n",
        "  \n",
        "  elif bird1 == d1 and bird2 == h1:\n",
        "    bird1.set_fitness(0)\n",
        "    bird2.set_fitness(v)\n",
        "\n",
        "  elif bird1 == d1 and bird2 == d1:\n",
        "    bird1.set_fitness(v/2)\n",
        "    bird2.set_fitness(v/2)\n",
        "\n",
        "\n"
      ],
      "metadata": {
        "id": "aY9zAMEbO2Dg"
      },
      "execution_count": 274,
      "outputs": []
    },
    {
      "cell_type": "code",
      "source": [
        "\n",
        "def counter():\n",
        "  h = 0\n",
        "  d = 0\n",
        "  for i in range (100000):\n",
        "    bird1=nest.bird1_picker()\n",
        "    if bird1 == h1:\n",
        "      h += 1\n",
        "    elif bird1 == d1:\n",
        "      d += 1    \n",
        "  return(h)\n"
      ],
      "metadata": {
        "id": "grxLYSwecHZI"
      },
      "execution_count": 264,
      "outputs": []
    },
    {
      "cell_type": "code",
      "source": [
        "def ave():\n",
        "  val = 0\n",
        "  for i in range (100):\n",
        "    val += counter()\n",
        "  return(val/100)"
      ],
      "metadata": {
        "id": "AHWwSERbGcHw"
      },
      "execution_count": 265,
      "outputs": []
    },
    {
      "cell_type": "code",
      "source": [
        "ave()"
      ],
      "metadata": {
        "id": "xewJd16LNpqx",
        "outputId": "e5fdc4a8-fc65-4083-dff7-938d697f3382",
        "colab": {
          "base_uri": "https://localhost:8080/",
          "height": 317
        }
      },
      "execution_count": 266,
      "outputs": [
        {
          "output_type": "error",
          "ename": "KeyboardInterrupt",
          "evalue": "ignored",
          "traceback": [
            "\u001b[0;31m---------------------------------------------------------------------------\u001b[0m",
            "\u001b[0;31mKeyboardInterrupt\u001b[0m                         Traceback (most recent call last)",
            "\u001b[0;32m<ipython-input-266-2d698ffb077a>\u001b[0m in \u001b[0;36m<module>\u001b[0;34m()\u001b[0m\n\u001b[0;32m----> 1\u001b[0;31m \u001b[0mave\u001b[0m\u001b[0;34m(\u001b[0m\u001b[0;34m)\u001b[0m\u001b[0;34m\u001b[0m\u001b[0;34m\u001b[0m\u001b[0m\n\u001b[0m",
            "\u001b[0;32m<ipython-input-265-b0275667a0e4>\u001b[0m in \u001b[0;36mave\u001b[0;34m()\u001b[0m\n\u001b[1;32m      2\u001b[0m   \u001b[0mval\u001b[0m \u001b[0;34m=\u001b[0m \u001b[0;36m0\u001b[0m\u001b[0;34m\u001b[0m\u001b[0;34m\u001b[0m\u001b[0m\n\u001b[1;32m      3\u001b[0m   \u001b[0;32mfor\u001b[0m \u001b[0mi\u001b[0m \u001b[0;32min\u001b[0m \u001b[0mrange\u001b[0m \u001b[0;34m(\u001b[0m\u001b[0;36m100\u001b[0m\u001b[0;34m)\u001b[0m\u001b[0;34m:\u001b[0m\u001b[0;34m\u001b[0m\u001b[0;34m\u001b[0m\u001b[0m\n\u001b[0;32m----> 4\u001b[0;31m     \u001b[0mval\u001b[0m \u001b[0;34m+=\u001b[0m \u001b[0mcounter\u001b[0m\u001b[0;34m(\u001b[0m\u001b[0;34m)\u001b[0m\u001b[0;34m\u001b[0m\u001b[0;34m\u001b[0m\u001b[0m\n\u001b[0m\u001b[1;32m      5\u001b[0m   \u001b[0;32mreturn\u001b[0m\u001b[0;34m(\u001b[0m\u001b[0mval\u001b[0m\u001b[0;34m/\u001b[0m\u001b[0;36m100\u001b[0m\u001b[0;34m)\u001b[0m\u001b[0;34m\u001b[0m\u001b[0;34m\u001b[0m\u001b[0m\n",
            "\u001b[0;32m<ipython-input-264-e6c399da49ef>\u001b[0m in \u001b[0;36mcounter\u001b[0;34m()\u001b[0m\n\u001b[1;32m      4\u001b[0m   \u001b[0md\u001b[0m \u001b[0;34m=\u001b[0m \u001b[0;36m0\u001b[0m\u001b[0;34m\u001b[0m\u001b[0;34m\u001b[0m\u001b[0m\n\u001b[1;32m      5\u001b[0m   \u001b[0;32mfor\u001b[0m \u001b[0mi\u001b[0m \u001b[0;32min\u001b[0m \u001b[0mrange\u001b[0m \u001b[0;34m(\u001b[0m\u001b[0;36m100000\u001b[0m\u001b[0;34m)\u001b[0m\u001b[0;34m:\u001b[0m\u001b[0;34m\u001b[0m\u001b[0;34m\u001b[0m\u001b[0m\n\u001b[0;32m----> 6\u001b[0;31m     \u001b[0mbird1\u001b[0m\u001b[0;34m=\u001b[0m\u001b[0mnest\u001b[0m\u001b[0;34m.\u001b[0m\u001b[0mbird1_picker\u001b[0m\u001b[0;34m(\u001b[0m\u001b[0;34m)\u001b[0m\u001b[0;34m\u001b[0m\u001b[0;34m\u001b[0m\u001b[0m\n\u001b[0m\u001b[1;32m      7\u001b[0m     \u001b[0;32mif\u001b[0m \u001b[0mbird1\u001b[0m \u001b[0;34m==\u001b[0m \u001b[0mh1\u001b[0m\u001b[0;34m:\u001b[0m\u001b[0;34m\u001b[0m\u001b[0;34m\u001b[0m\u001b[0m\n\u001b[1;32m      8\u001b[0m       \u001b[0mh\u001b[0m \u001b[0;34m+=\u001b[0m \u001b[0;36m1\u001b[0m\u001b[0;34m\u001b[0m\u001b[0;34m\u001b[0m\u001b[0m\n",
            "\u001b[0;32m<ipython-input-261-4f40b556fda7>\u001b[0m in \u001b[0;36mbird1_picker\u001b[0;34m(self)\u001b[0m\n\u001b[1;32m     28\u001b[0m \u001b[0;34m\u001b[0m\u001b[0m\n\u001b[1;32m     29\u001b[0m   \u001b[0;32mdef\u001b[0m \u001b[0mbird1_picker\u001b[0m\u001b[0;34m(\u001b[0m\u001b[0mself\u001b[0m\u001b[0;34m)\u001b[0m\u001b[0;34m:\u001b[0m\u001b[0;34m\u001b[0m\u001b[0;34m\u001b[0m\u001b[0m\n\u001b[0;32m---> 30\u001b[0;31m     \u001b[0mbird1\u001b[0m \u001b[0;34m=\u001b[0m \u001b[0mchoice\u001b[0m\u001b[0;34m(\u001b[0m\u001b[0mself\u001b[0m\u001b[0;34m.\u001b[0m\u001b[0mpopulation\u001b[0m\u001b[0;34m)\u001b[0m\u001b[0;34m\u001b[0m\u001b[0;34m\u001b[0m\u001b[0m\n\u001b[0m\u001b[1;32m     31\u001b[0m     \u001b[0;32mreturn\u001b[0m\u001b[0;34m(\u001b[0m\u001b[0mbird1\u001b[0m\u001b[0;34m)\u001b[0m\u001b[0;34m\u001b[0m\u001b[0;34m\u001b[0m\u001b[0m\n\u001b[1;32m     32\u001b[0m   \u001b[0;32mdef\u001b[0m \u001b[0mbird2_picker\u001b[0m\u001b[0;34m(\u001b[0m\u001b[0mself\u001b[0m\u001b[0;34m)\u001b[0m\u001b[0;34m:\u001b[0m\u001b[0;34m\u001b[0m\u001b[0;34m\u001b[0m\u001b[0m\n",
            "\u001b[0;32m/usr/lib/python3.7/random.py\u001b[0m in \u001b[0;36mchoice\u001b[0;34m(self, seq)\u001b[0m\n\u001b[1;32m    257\u001b[0m         \u001b[0;34m\"\"\"Choose a random element from a non-empty sequence.\"\"\"\u001b[0m\u001b[0;34m\u001b[0m\u001b[0;34m\u001b[0m\u001b[0m\n\u001b[1;32m    258\u001b[0m         \u001b[0;32mtry\u001b[0m\u001b[0;34m:\u001b[0m\u001b[0;34m\u001b[0m\u001b[0;34m\u001b[0m\u001b[0m\n\u001b[0;32m--> 259\u001b[0;31m             \u001b[0mi\u001b[0m \u001b[0;34m=\u001b[0m \u001b[0mself\u001b[0m\u001b[0;34m.\u001b[0m\u001b[0m_randbelow\u001b[0m\u001b[0;34m(\u001b[0m\u001b[0mlen\u001b[0m\u001b[0;34m(\u001b[0m\u001b[0mseq\u001b[0m\u001b[0;34m)\u001b[0m\u001b[0;34m)\u001b[0m\u001b[0;34m\u001b[0m\u001b[0;34m\u001b[0m\u001b[0m\n\u001b[0m\u001b[1;32m    260\u001b[0m         \u001b[0;32mexcept\u001b[0m \u001b[0mValueError\u001b[0m\u001b[0;34m:\u001b[0m\u001b[0;34m\u001b[0m\u001b[0;34m\u001b[0m\u001b[0m\n\u001b[1;32m    261\u001b[0m             \u001b[0;32mraise\u001b[0m \u001b[0mIndexError\u001b[0m\u001b[0;34m(\u001b[0m\u001b[0;34m'Cannot choose from an empty sequence'\u001b[0m\u001b[0;34m)\u001b[0m \u001b[0;32mfrom\u001b[0m \u001b[0;32mNone\u001b[0m\u001b[0;34m\u001b[0m\u001b[0;34m\u001b[0m\u001b[0m\n",
            "\u001b[0;32m/usr/lib/python3.7/random.py\u001b[0m in \u001b[0;36m_randbelow\u001b[0;34m(self, n, int, maxsize, type, Method, BuiltinMethod)\u001b[0m\n\u001b[1;32m    233\u001b[0m             \u001b[0mk\u001b[0m \u001b[0;34m=\u001b[0m \u001b[0mn\u001b[0m\u001b[0;34m.\u001b[0m\u001b[0mbit_length\u001b[0m\u001b[0;34m(\u001b[0m\u001b[0;34m)\u001b[0m  \u001b[0;31m# don't use (n-1) here because n can be 1\u001b[0m\u001b[0;34m\u001b[0m\u001b[0;34m\u001b[0m\u001b[0m\n\u001b[1;32m    234\u001b[0m             \u001b[0mr\u001b[0m \u001b[0;34m=\u001b[0m \u001b[0mgetrandbits\u001b[0m\u001b[0;34m(\u001b[0m\u001b[0mk\u001b[0m\u001b[0;34m)\u001b[0m          \u001b[0;31m# 0 <= r < 2**k\u001b[0m\u001b[0;34m\u001b[0m\u001b[0;34m\u001b[0m\u001b[0m\n\u001b[0;32m--> 235\u001b[0;31m             \u001b[0;32mwhile\u001b[0m \u001b[0mr\u001b[0m \u001b[0;34m>=\u001b[0m \u001b[0mn\u001b[0m\u001b[0;34m:\u001b[0m\u001b[0;34m\u001b[0m\u001b[0;34m\u001b[0m\u001b[0m\n\u001b[0m\u001b[1;32m    236\u001b[0m                 \u001b[0mr\u001b[0m \u001b[0;34m=\u001b[0m \u001b[0mgetrandbits\u001b[0m\u001b[0;34m(\u001b[0m\u001b[0mk\u001b[0m\u001b[0;34m)\u001b[0m\u001b[0;34m\u001b[0m\u001b[0;34m\u001b[0m\u001b[0m\n\u001b[1;32m    237\u001b[0m             \u001b[0;32mreturn\u001b[0m \u001b[0mr\u001b[0m\u001b[0;34m\u001b[0m\u001b[0;34m\u001b[0m\u001b[0m\n",
            "\u001b[0;31mKeyboardInterrupt\u001b[0m: "
          ]
        }
      ]
    }
  ]
}