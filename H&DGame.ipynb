{
  "nbformat": 4,
  "nbformat_minor": 0,
  "metadata": {
    "colab": {
      "name": "H&DGame.ipynb",
      "provenance": [],
      "collapsed_sections": [],
      "authorship_tag": "ABX9TyPTn4nOytDBY6v2goUkQP9t",
      "include_colab_link": true
    },
    "kernelspec": {
      "name": "python3",
      "display_name": "Python 3"
    },
    "language_info": {
      "name": "python"
    }
  },
  "cells": [
    {
      "cell_type": "markdown",
      "metadata": {
        "id": "view-in-github",
        "colab_type": "text"
      },
      "source": [
        "<a href=\"https://colab.research.google.com/github/CaelanWR/Dames-n-Grains-the-Game/blob/main/H%26DGame.ipynb\" target=\"_parent\"><img src=\"https://colab.research.google.com/assets/colab-badge.svg\" alt=\"Open In Colab\"/></a>"
      ]
    },
    {
      "cell_type": "code",
      "source": [
        "from random import choice\n",
        "import numpy as np"
      ],
      "metadata": {
        "id": "NSy1NupCTSVu"
      },
      "execution_count": 76,
      "outputs": []
    },
    {
      "cell_type": "code",
      "execution_count": 77,
      "metadata": {
        "id": "VweQ8MCfTKU9"
      },
      "outputs": [],
      "source": [
        "class Agent:\n",
        "  def __init__(self,bird,fitness):\n",
        "    self.bird = bird\n",
        "    self.fitness = fitness\n",
        "  \n",
        "  def get_fitness(self):\n",
        "    return self.fitness\n",
        "  def set_fitness(self,fitness):\n",
        "    self.fitness=fitness\n",
        "\n",
        "  def get_species(self, bird):\n",
        "    return self.bird\n",
        "    \n",
        "  def set_species(self, bird):\n",
        "    self.bird=bird\n",
        "\n",
        "\n",
        "#0 = dove\n",
        "#1 = hawk\n"
      ]
    },
    {
      "cell_type": "code",
      "source": [
        "d = Agent(0,1)\n",
        "h = Agent(1,1)\n",
        "print(d.bird)\n",
        "print(h.bird)\n",
        "\n",
        "c = 2\n",
        "v = 3\n",
        "\n",
        "payoffs = np.zeros((2, 2), dtype=[('x', 'float'), ('y', 'float')])\n",
        "payoffs [0][0] = ((v/2)- c, (v/2)- c)\n",
        "payoffs [0][1] = (0,v)\n",
        "payoffs [1][0] = (v,0)\n",
        "payoffs [1][1] = ((v/2),(v/2))\n",
        "\n",
        "print(payoffs [0][1])\n",
        "print(payoffs [1][0])\n",
        "print(payoffs [0][0])\n",
        "print(payoffs [1][1])"
      ],
      "metadata": {
        "colab": {
          "base_uri": "https://localhost:8080/"
        },
        "id": "8cKZj2vVm8Zy",
        "outputId": "dd206b19-55f5-403a-fbb4-8f88ccfb1b03"
      },
      "execution_count": 91,
      "outputs": [
        {
          "output_type": "stream",
          "name": "stdout",
          "text": [
            "0\n",
            "1\n",
            "(0., 3.)\n",
            "(3., 0.)\n",
            "(-0.5, -0.5)\n",
            "(1.5, 1.5)\n"
          ]
        }
      ]
    },
    {
      "cell_type": "code",
      "source": [
        "nest = []\n",
        "for i in range (15):\n",
        "  nest.append(h)\n",
        "for i in range (15):\n",
        "  nest.append(d)\n",
        "\n",
        "for h in nest:\n",
        "  if h.fitness == 0 or h.fitness <= 0:\n",
        "    nest.remove(h) \n",
        "\n",
        "for d in nest:\n",
        "  if d.fitness == 0 or d.fitness <= 0:\n",
        "    nest.remove(h) \n",
        "\n",
        "\n",
        "\n",
        "print(\"#agents =\", len(nest))\n",
        "Avefit = (sum(Agent.fitness for Agent in nest))/(len(nest))\n",
        "print(Avefit)\n",
        "\n",
        "\n",
        "\n"
      ],
      "metadata": {
        "colab": {
          "base_uri": "https://localhost:8080/"
        },
        "id": "965--KzK31VX",
        "outputId": "e54fed0a-1d0e-450f-ad54-6ee1e84a0bdd"
      },
      "execution_count": 90,
      "outputs": [
        {
          "output_type": "stream",
          "name": "stdout",
          "text": [
            "#agents = 30\n",
            "1.0\n"
          ]
        }
      ]
    },
    {
      "cell_type": "code",
      "source": [
        "\n",
        "def food_fight(bird1,bird2):\n",
        "  bird1 = choice(nest)\n",
        "  bird2 = choice(nest)\n",
        "  if bird1.bird == 1 and bird2.bird ==1:\n",
        "    return('nooooo')\n",
        "  elif bird1.bird == 1 and bird2.bird ==0:\n",
        "    return('hiiiiii')\n",
        "  elif bird1.bird == 0 and bird2.bird ==0:\n",
        "    return('yooooo')\n",
        "  elif bird1.bird == 0 and bird2.bird ==1:\n",
        "    return('yup')\n",
        "  \n",
        "\n",
        "food_fight(bird1,bird2)\n",
        "    \n",
        "\n",
        "\n",
        "\n"
      ],
      "metadata": {
        "colab": {
          "base_uri": "https://localhost:8080/",
          "height": 35
        },
        "id": "grxLYSwecHZI",
        "outputId": "fc9b61a3-7d67-431f-d2f6-c4cd027ec287"
      },
      "execution_count": 89,
      "outputs": [
        {
          "output_type": "execute_result",
          "data": {
            "text/plain": [
              "'yooooo'"
            ],
            "application/vnd.google.colaboratory.intrinsic+json": {
              "type": "string"
            }
          },
          "metadata": {},
          "execution_count": 89
        }
      ]
    },
    {
      "cell_type": "code",
      "source": [
        "\n",
        "fh = ((v/2)-c)*(h1/t)+((v)*(1-(h1/t)))\n",
        "fd = (1-(h1/t))*(v/2)\n",
        "fa = (h1/t)*fh + (1-(h1/t)) * fd\n",
        "fh = ((v/2)-c)*(h1/t)+((v)*(1-(h1/t)))\n"
      ],
      "metadata": {
        "colab": {
          "base_uri": "https://localhost:8080/",
          "height": 240
        },
        "id": "ypyla-vhV3-L",
        "outputId": "abebacb5-6b69-4cdd-f23f-09ec6c5d184f"
      },
      "execution_count": 81,
      "outputs": [
        {
          "output_type": "error",
          "ename": "NameError",
          "evalue": "ignored",
          "traceback": [
            "\u001b[0;31m---------------------------------------------------------------------------\u001b[0m",
            "\u001b[0;31mNameError\u001b[0m                                 Traceback (most recent call last)",
            "\u001b[0;32m<ipython-input-81-89ec356a3228>\u001b[0m in \u001b[0;36m<module>\u001b[0;34m()\u001b[0m\n\u001b[1;32m      1\u001b[0m \u001b[0;34m\u001b[0m\u001b[0m\n\u001b[0;32m----> 2\u001b[0;31m \u001b[0mfh\u001b[0m \u001b[0;34m=\u001b[0m \u001b[0;34m(\u001b[0m\u001b[0;34m(\u001b[0m\u001b[0mv\u001b[0m\u001b[0;34m/\u001b[0m\u001b[0;36m2\u001b[0m\u001b[0;34m)\u001b[0m\u001b[0;34m-\u001b[0m\u001b[0mc\u001b[0m\u001b[0;34m)\u001b[0m\u001b[0;34m*\u001b[0m\u001b[0;34m(\u001b[0m\u001b[0mh1\u001b[0m\u001b[0;34m/\u001b[0m\u001b[0mt\u001b[0m\u001b[0;34m)\u001b[0m\u001b[0;34m+\u001b[0m\u001b[0;34m(\u001b[0m\u001b[0;34m(\u001b[0m\u001b[0mv\u001b[0m\u001b[0;34m)\u001b[0m\u001b[0;34m*\u001b[0m\u001b[0;34m(\u001b[0m\u001b[0;36m1\u001b[0m\u001b[0;34m-\u001b[0m\u001b[0;34m(\u001b[0m\u001b[0mh1\u001b[0m\u001b[0;34m/\u001b[0m\u001b[0mt\u001b[0m\u001b[0;34m)\u001b[0m\u001b[0;34m)\u001b[0m\u001b[0;34m)\u001b[0m\u001b[0;34m\u001b[0m\u001b[0;34m\u001b[0m\u001b[0m\n\u001b[0m\u001b[1;32m      3\u001b[0m \u001b[0mfd\u001b[0m \u001b[0;34m=\u001b[0m \u001b[0;34m(\u001b[0m\u001b[0;36m1\u001b[0m\u001b[0;34m-\u001b[0m\u001b[0;34m(\u001b[0m\u001b[0mh1\u001b[0m\u001b[0;34m/\u001b[0m\u001b[0mt\u001b[0m\u001b[0;34m)\u001b[0m\u001b[0;34m)\u001b[0m\u001b[0;34m*\u001b[0m\u001b[0;34m(\u001b[0m\u001b[0mv\u001b[0m\u001b[0;34m/\u001b[0m\u001b[0;36m2\u001b[0m\u001b[0;34m)\u001b[0m\u001b[0;34m\u001b[0m\u001b[0;34m\u001b[0m\u001b[0m\n\u001b[1;32m      4\u001b[0m \u001b[0mfa\u001b[0m \u001b[0;34m=\u001b[0m \u001b[0;34m(\u001b[0m\u001b[0mh1\u001b[0m\u001b[0;34m/\u001b[0m\u001b[0mt\u001b[0m\u001b[0;34m)\u001b[0m\u001b[0;34m*\u001b[0m\u001b[0mfh\u001b[0m \u001b[0;34m+\u001b[0m \u001b[0;34m(\u001b[0m\u001b[0;36m1\u001b[0m\u001b[0;34m-\u001b[0m\u001b[0;34m(\u001b[0m\u001b[0mh1\u001b[0m\u001b[0;34m/\u001b[0m\u001b[0mt\u001b[0m\u001b[0;34m)\u001b[0m\u001b[0;34m)\u001b[0m \u001b[0;34m*\u001b[0m \u001b[0mfd\u001b[0m\u001b[0;34m\u001b[0m\u001b[0;34m\u001b[0m\u001b[0m\n\u001b[1;32m      5\u001b[0m \u001b[0mfh\u001b[0m \u001b[0;34m=\u001b[0m \u001b[0;34m(\u001b[0m\u001b[0;34m(\u001b[0m\u001b[0mv\u001b[0m\u001b[0;34m/\u001b[0m\u001b[0;36m2\u001b[0m\u001b[0;34m)\u001b[0m\u001b[0;34m-\u001b[0m\u001b[0mc\u001b[0m\u001b[0;34m)\u001b[0m\u001b[0;34m*\u001b[0m\u001b[0;34m(\u001b[0m\u001b[0mh1\u001b[0m\u001b[0;34m/\u001b[0m\u001b[0mt\u001b[0m\u001b[0;34m)\u001b[0m\u001b[0;34m+\u001b[0m\u001b[0;34m(\u001b[0m\u001b[0;34m(\u001b[0m\u001b[0mv\u001b[0m\u001b[0;34m)\u001b[0m\u001b[0;34m*\u001b[0m\u001b[0;34m(\u001b[0m\u001b[0;36m1\u001b[0m\u001b[0;34m-\u001b[0m\u001b[0;34m(\u001b[0m\u001b[0mh1\u001b[0m\u001b[0;34m/\u001b[0m\u001b[0mt\u001b[0m\u001b[0;34m)\u001b[0m\u001b[0;34m)\u001b[0m\u001b[0;34m)\u001b[0m\u001b[0;34m\u001b[0m\u001b[0;34m\u001b[0m\u001b[0m\n",
            "\u001b[0;31mNameError\u001b[0m: name 'h1' is not defined"
          ]
        }
      ]
    }
  ]
}