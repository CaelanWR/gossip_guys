{
  "nbformat": 4,
  "nbformat_minor": 0,
  "metadata": {
    "colab": {
      "name": "H&DGame.ipynb",
      "provenance": [],
      "collapsed_sections": [],
      "authorship_tag": "ABX9TyPrAPc2V9/yawVTNJv7xsar",
      "include_colab_link": true
    },
    "kernelspec": {
      "name": "python3",
      "display_name": "Python 3"
    },
    "language_info": {
      "name": "python"
    }
  },
  "cells": [
    {
      "cell_type": "markdown",
      "metadata": {
        "id": "view-in-github",
        "colab_type": "text"
      },
      "source": [
        "<a href=\"https://colab.research.google.com/github/CaelanWR/gossip_guys/blob/main/H%26DGame.ipynb\" target=\"_parent\"><img src=\"https://colab.research.google.com/assets/colab-badge.svg\" alt=\"Open In Colab\"/></a>"
      ]
    },
    {
      "cell_type": "code",
      "source": [
        "from random import choice\n",
        "import numpy as np"
      ],
      "metadata": {
        "id": "NSy1NupCTSVu"
      },
      "execution_count": 67,
      "outputs": []
    },
    {
      "cell_type": "code",
      "execution_count": 68,
      "metadata": {
        "id": "VweQ8MCfTKU9"
      },
      "outputs": [],
      "source": [
        "class dove:\n",
        "  def __init__(self,fitness):\n",
        "    self.fitness = fitness\n",
        "  def get_fitness(self):\n",
        "    return self.fitness\n",
        "  def set_fitness(self,fitness):\n",
        "    self.fitness=fitness\n"
      ]
    },
    {
      "cell_type": "code",
      "source": [
        "class hawk:\n",
        "  def __init__(self,fitness):\n",
        "    self.fitness = fitness\n",
        "  def get_fitness(self):\n",
        "    return self.fitness\n",
        "  def set_fitness(self,fitness):\n",
        "    self.fitness=fitness\n"
      ],
      "metadata": {
        "id": "4jarBXrtG1XZ"
      },
      "execution_count": 69,
      "outputs": []
    },
    {
      "cell_type": "code",
      "source": [
        "d = dove(1)\n",
        "h = hawk(1)\n",
        "\n",
        "c = 2\n",
        "v = 3\n",
        "\n",
        "payoffs = np.zeros((2, 2), dtype=[('x', 'float'), ('y', 'float')])\n",
        "payoffs [0][0] = ((v/2)- c, (v/2)- c)\n",
        "payoffs [0][1] = (0,v)\n",
        "payoffs [1][0] = (v,0)\n",
        "payoffs [1][1] = ((v/2),(v/2))\n",
        "\n",
        "print(payoffs [0][1])\n",
        "print(payoffs [1][0])\n",
        "print(payoffs [0][0])\n",
        "print(payoffs [1][1])"
      ],
      "metadata": {
        "colab": {
          "base_uri": "https://localhost:8080/"
        },
        "id": "8cKZj2vVm8Zy",
        "outputId": "fced9bcb-d749-4224-c063-cf3431debdbd"
      },
      "execution_count": 70,
      "outputs": [
        {
          "output_type": "stream",
          "name": "stdout",
          "text": [
            "(0., 3.)\n",
            "(3., 0.)\n",
            "(-0.5, -0.5)\n",
            "(1.5, 1.5)\n"
          ]
        }
      ]
    },
    {
      "cell_type": "code",
      "source": [
        "class nest:\n",
        "  def __init__(self,name):\n",
        "    self.population = []\n",
        "\n",
        "  def add_bird(self,individual):\n",
        "      self.population.append(individual)\n",
        "  def get_avefit(self):\n",
        "    value = 0\n",
        "    for individual in self.population:\n",
        "      value += individual.get_fitness()\n",
        "    \n",
        "    return (value/len(self.population))\n",
        "  \n",
        "  def get_hfit(self):\n",
        "    value = 0\n",
        "    for individual in self.population:\n",
        "      if individual == h1:\n",
        "        value += individual.get_fitness()\n",
        "    return (value/self.population.count(h1))\n",
        "\n",
        "  def get_dfit(self):\n",
        "    value = 0\n",
        "    for individual in self.population:\n",
        "      if individual == d1:\n",
        "        value += individual.get_fitness()\n",
        "    \n",
        "    return (value/self.population.count(d1))\n",
        "  \n",
        "   \n"
      ],
      "metadata": {
        "id": "965--KzK31VX"
      },
      "execution_count": 131,
      "outputs": []
    },
    {
      "cell_type": "code",
      "source": [
        "hawkfit = 10\n",
        "dovefit = 10\n",
        "h1 = hawk(hawkfit)\n",
        "d1 = dove(dovefit)\n",
        "nest = nest(\"nesty\")\n",
        "for i in range (30):\n",
        "  nest.add_bird(h1)\n",
        "for i in range (20):\n",
        "  nest.add_bird(d1)"
      ],
      "metadata": {
        "id": "3P4USVaEtPQe"
      },
      "execution_count": 132,
      "outputs": []
    },
    {
      "cell_type": "code",
      "source": [
        "print (nest.get_avefit())\n",
        "print(nest.get_hfit())\n",
        "print(nest.get_dfit())"
      ],
      "metadata": {
        "colab": {
          "base_uri": "https://localhost:8080/"
        },
        "id": "IdqrBi_55RvV",
        "outputId": "eb65cfaf-1333-4881-fc4b-104066047234"
      },
      "execution_count": 133,
      "outputs": [
        {
          "output_type": "stream",
          "name": "stdout",
          "text": [
            "8005.6\n",
            "10.0\n",
            "19999.0\n"
          ]
        }
      ]
    },
    {
      "cell_type": "code",
      "source": [
        "\n",
        "def food_fight(bird1,bird2):\n",
        "  bird1 = choice(nest)\n",
        "  bird2 = choice(nest)\n",
        "  if bird1 == h and bird2 == h:\n",
        "    return('nooooo')\n",
        "  elif bird1== h and bird2 == d:\n",
        "    return('hiiiiii')\n",
        "  elif bird1 == d and bird2 == d:\n",
        "    return('yooooo')\n",
        "  elif bird1 == d and bird2 == h:\n",
        "    return('yup')\n"
      ],
      "metadata": {
        "id": "grxLYSwecHZI"
      },
      "execution_count": 74,
      "outputs": []
    },
    {
      "cell_type": "code",
      "source": [
        ""
      ],
      "metadata": {
        "id": "AHWwSERbGcHw"
      },
      "execution_count": 74,
      "outputs": []
    }
  ]
}