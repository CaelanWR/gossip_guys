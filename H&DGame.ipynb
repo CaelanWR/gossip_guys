{
  "nbformat": 4,
  "nbformat_minor": 0,
  "metadata": {
    "colab": {
      "name": "H&DGame.ipynb",
      "provenance": [],
      "collapsed_sections": [],
      "authorship_tag": "ABX9TyNwR/8218kNUBh7ia28nEDp",
      "include_colab_link": true
    },
    "kernelspec": {
      "name": "python3",
      "display_name": "Python 3"
    },
    "language_info": {
      "name": "python"
    }
  },
  "cells": [
    {
      "cell_type": "markdown",
      "metadata": {
        "id": "view-in-github",
        "colab_type": "text"
      },
      "source": [
        "<a href=\"https://colab.research.google.com/github/CaelanWR/gossip_guys/blob/main/H%26DGame.ipynb\" target=\"_parent\"><img src=\"https://colab.research.google.com/assets/colab-badge.svg\" alt=\"Open In Colab\"/></a>"
      ]
    },
    {
      "cell_type": "code",
      "source": [
        "from random import choice\n",
        "import numpy as np"
      ],
      "metadata": {
        "id": "NSy1NupCTSVu"
      },
      "execution_count": 67,
      "outputs": []
    },
    {
      "cell_type": "code",
      "execution_count": 68,
      "metadata": {
        "id": "VweQ8MCfTKU9"
      },
      "outputs": [],
      "source": [
        "class dove:\n",
        "  def __init__(self,fitness):\n",
        "    self.fitness = fitness\n",
        "  def get_fitness(self):\n",
        "    return self.fitness\n",
        "  def set_fitness(self,fitness):\n",
        "    self.fitness=fitness\n"
      ]
    },
    {
      "cell_type": "code",
      "source": [
        "class hawk:\n",
        "  def __init__(self,fitness):\n",
        "    self.fitness = fitness\n",
        "  def get_fitness(self):\n",
        "    return self.fitness\n",
        "  def set_fitness(self,fitness):\n",
        "    self.fitness=fitness\n"
      ],
      "metadata": {
        "id": "4jarBXrtG1XZ"
      },
      "execution_count": 69,
      "outputs": []
    },
    {
      "cell_type": "code",
      "source": [
        "d = dove(1)\n",
        "h = hawk(1)\n",
        "\n",
        "c = 2\n",
        "v = 3\n",
        "\n",
        "payoffs = np.zeros((2, 2), dtype=[('x', 'float'), ('y', 'float')])\n",
        "payoffs [0][0] = ((v/2)- c, (v/2)- c)\n",
        "payoffs [0][1] = (0,v)\n",
        "payoffs [1][0] = (v,0)\n",
        "payoffs [1][1] = ((v/2),(v/2))\n",
        "\n",
        "print(payoffs [0][1])\n",
        "print(payoffs [1][0])\n",
        "print(payoffs [0][0])\n",
        "print(payoffs [1][1])"
      ],
      "metadata": {
        "colab": {
          "base_uri": "https://localhost:8080/"
        },
        "id": "8cKZj2vVm8Zy",
        "outputId": "fced9bcb-d749-4224-c063-cf3431debdbd"
      },
      "execution_count": 70,
      "outputs": [
        {
          "output_type": "stream",
          "name": "stdout",
          "text": [
            "(0., 3.)\n",
            "(3., 0.)\n",
            "(-0.5, -0.5)\n",
            "(1.5, 1.5)\n"
          ]
        }
      ]
    },
    {
      "cell_type": "code",
      "source": [
        "class nest:\n",
        "  def __init__(self,name):\n",
        "    self.population = []\n",
        "\n",
        "  def add_bird(self,individual):\n",
        "      self.population.append(individual)\n",
        "  def get_avefit(self):\n",
        "    value = 0\n",
        "    for individual in self.population:\n",
        "      value += individual.get_fitness()\n",
        "    \n",
        "    return (value/len(self.population))\n",
        "  \n",
        "  def get_hfit(self):\n",
        "    value = 0\n",
        "    for individual in self.population:\n",
        "      if individual == h1:\n",
        "        value += individual.get_fitness()\n",
        "    return (value/self.population.count(h1))\n",
        "\n",
        "  def get_dfit(self):\n",
        "    value = 0\n",
        "    for individual in self.population:\n",
        "      if individual == d1:\n",
        "        value += individual.get_fitness()\n",
        "    \n",
        "    return (value/self.population.count(d1))\n",
        "  \n",
        "  def bird_picker(self):\n",
        "    bird1 = choice(self.population)\n",
        "    return(bird1)\n",
        "  \n",
        "  \n",
        "  \n",
        "  \n",
        "  #   bird2 = choice(nest)\n",
        "  # if bird1 == h and bird2 == h:\n",
        "  #   return('nooooo')\n",
        "  # elif bird1== h and bird2 == d:\n",
        "  #   return('hiiiiii')\n",
        "  # elif bird1 == d and bird2 == d:\n",
        "  #   return('yooooo')\n",
        "  # elif bird1 == d and bird2 == h:\n",
        "  #   return('yup')\n",
        "\n",
        "   \n"
      ],
      "metadata": {
        "id": "965--KzK31VX"
      },
      "execution_count": 195,
      "outputs": []
    },
    {
      "cell_type": "code",
      "source": [
        "hawkfit = 10\n",
        "dovefit = 10\n",
        "h1 = hawk(hawkfit)\n",
        "d1 = dove(dovefit)\n",
        "nest = nest(\"nesty\")\n",
        "for i in range (3):\n",
        "  nest.add_bird(h1)\n",
        "for i in range (3):\n",
        "  nest.add_bird(d1)"
      ],
      "metadata": {
        "id": "3P4USVaEtPQe"
      },
      "execution_count": 196,
      "outputs": []
    },
    {
      "cell_type": "code",
      "source": [
        "print (nest.get_avefit())\n",
        "print(nest.get_hfit())\n",
        "print(nest.get_dfit())\n",
        "print(nest.bird_picker())"
      ],
      "metadata": {
        "colab": {
          "base_uri": "https://localhost:8080/"
        },
        "id": "IdqrBi_55RvV",
        "outputId": "acb3e205-6cd6-4c05-b91f-87643af1bafa"
      },
      "execution_count": 197,
      "outputs": [
        {
          "output_type": "stream",
          "name": "stdout",
          "text": [
            "10.0\n",
            "10.0\n",
            "10.0\n",
            "<__main__.dove object at 0x7f69027d6090>\n"
          ]
        }
      ]
    },
    {
      "cell_type": "code",
      "source": [
        "\n",
        "def counter():\n",
        "  h = 0\n",
        "  d = 0\n",
        "  for i in range (100000000):\n",
        "    bird1=nest.bird_picker()\n",
        "    if bird1 == h1:\n",
        "      h += 1\n",
        "    elif bird1 == d1:\n",
        "      d += 1    \n",
        "  return(h)\n"
      ],
      "metadata": {
        "id": "grxLYSwecHZI"
      },
      "execution_count": 210,
      "outputs": []
    },
    {
      "cell_type": "code",
      "source": [
        "counter()"
      ],
      "metadata": {
        "id": "AHWwSERbGcHw",
        "colab": {
          "base_uri": "https://localhost:8080/"
        },
        "outputId": "21037294-7e78-412a-ccf6-81638f1594c2"
      },
      "execution_count": 217,
      "outputs": [
        {
          "output_type": "execute_result",
          "data": {
            "text/plain": [
              "5"
            ]
          },
          "metadata": {},
          "execution_count": 217
        }
      ]
    }
  ]
}