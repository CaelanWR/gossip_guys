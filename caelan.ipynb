{
  "cells": [
    {
      "cell_type": "code",
      "source": [
        "from random import random"
      ],
      "metadata": {
        "id": "O2qIxQAjGzxm"
      },
      "id": "O2qIxQAjGzxm",
      "execution_count": 16,
      "outputs": []
    },
    {
      "cell_type": "code",
      "source": [
        "class tribe:\n",
        "  def cnt(hawks,doves):\n",
        "    \n",
        "    \n"
      ],
      "metadata": {
        "id": "RU6_fqFAHpNX"
      },
      "id": "RU6_fqFAHpNX",
      "execution_count": 22,
      "outputs": []
    },
    {
      "cell_type": "code",
      "execution_count": 33,
      "id": "9bb3a749-274f-4cd4-bc5c-a77a1ae834d6",
      "metadata": {
        "id": "9bb3a749-274f-4cd4-bc5c-a77a1ae834d6",
        "outputId": "96f336c5-7f66-4503-fb53-5d3827ee1d79",
        "colab": {
          "base_uri": "https://localhost:8080/",
          "height": 240
        }
      },
      "outputs": [
        {
          "output_type": "error",
          "ename": "TypeError",
          "evalue": "ignored",
          "traceback": [
            "\u001b[0;31m---------------------------------------------------------------------------\u001b[0m",
            "\u001b[0;31mTypeError\u001b[0m                                 Traceback (most recent call last)",
            "\u001b[0;32m<ipython-input-33-41142926b360>\u001b[0m in \u001b[0;36m<module>\u001b[0;34m()\u001b[0m\n\u001b[1;32m     10\u001b[0m \u001b[0;34m\u001b[0m\u001b[0m\n\u001b[1;32m     11\u001b[0m \u001b[0;34m\u001b[0m\u001b[0m\n\u001b[0;32m---> 12\u001b[0;31m \u001b[0mh\u001b[0m \u001b[0;34m=\u001b[0m \u001b[0mhawk\u001b[0m\u001b[0;34m(\u001b[0m\u001b[0;34m)\u001b[0m\u001b[0;34m\u001b[0m\u001b[0;34m\u001b[0m\u001b[0m\n\u001b[0m\u001b[1;32m     13\u001b[0m \u001b[0;34m\u001b[0m\u001b[0m\n\u001b[1;32m     14\u001b[0m \u001b[0;34m\u001b[0m\u001b[0m\n",
            "\u001b[0;31mTypeError\u001b[0m: __init__() missing 1 required positional argument: 'fitness'"
          ]
        }
      ],
      "source": [
        "\n",
        "class hawk:\n",
        "  def __init__(self, fitness):\n",
        "    self.fitness = fitness\n",
        "\n",
        "  def get_fitness(self):\n",
        "    return self.fitness\n",
        "\n",
        "    \n",
        "\n",
        "\n",
        "\n",
        "\n",
        "\n",
        "\n",
        "\n",
        "\n",
        "\n"
      ]
    },
    {
      "cell_type": "code",
      "source": [
        "class dove:\n",
        "  def chirp(self):\n",
        "    print(\"tweet\")\n",
        "d = dove()"
      ],
      "metadata": {
        "id": "xyMJaQQFGTIN"
      },
      "id": "xyMJaQQFGTIN",
      "execution_count": 6,
      "outputs": []
    },
    {
      "cell_type": "code",
      "source": [
        "d.chirp()"
      ],
      "metadata": {
        "id": "-_1qvI7HGhzY",
        "outputId": "9848ef33-a7fa-4c12-fd15-d348c90c0f82",
        "colab": {
          "base_uri": "https://localhost:8080/"
        }
      },
      "id": "-_1qvI7HGhzY",
      "execution_count": 7,
      "outputs": [
        {
          "output_type": "stream",
          "name": "stdout",
          "text": [
            "tweet\n"
          ]
        }
      ]
    },
    {
      "cell_type": "code",
      "execution_count": 5,
      "metadata": {
        "outputId": "7a22c22e-808a-4890-b9d1-8765e5753930",
        "colab": {
          "base_uri": "https://localhost:8080/"
        },
        "id": "PDHT3MMoGH5c"
      },
      "outputs": [
        {
          "output_type": "stream",
          "name": "stdout",
          "text": [
            "caaawww\n"
          ]
        }
      ],
      "source": [
        "h.squack()"
      ],
      "id": "PDHT3MMoGH5c"
    }
  ],
  "metadata": {
    "kernelspec": {
      "display_name": "Python 3 (ipykernel)",
      "language": "python",
      "name": "python3"
    },
    "language_info": {
      "codemirror_mode": {
        "name": "ipython",
        "version": 3
      },
      "file_extension": ".py",
      "mimetype": "text/x-python",
      "name": "python",
      "nbconvert_exporter": "python",
      "pygments_lexer": "ipython3",
      "version": "3.9.7"
    },
    "colab": {
      "name": "caelan.ipynb",
      "provenance": []
    }
  },
  "nbformat": 4,
  "nbformat_minor": 5
}