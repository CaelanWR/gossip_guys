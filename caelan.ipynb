{
  "cells": [
    {
      "cell_type": "code",
      "source": [
        "from random import choice\n",
        "import numpy as np"
      ],
      "metadata": {
        "id": "O2qIxQAjGzxm"
      },
      "id": "O2qIxQAjGzxm",
      "execution_count": 62,
      "outputs": []
    },
    {
      "cell_type": "code",
      "source": [
        "tribe = []\n",
        "for i in range(h1):\n",
        "    tribe.append(Hawk)\n",
        "for i in range(d1):\n",
        "    tribe.append(Dove)\n",
        "  \n"
      ],
      "metadata": {
        "id": "DCKpze-u6R06"
      },
      "id": "DCKpze-u6R06",
      "execution_count": 235,
      "outputs": []
    },
    {
      "cell_type": "code",
      "source": [
        ""
      ],
      "metadata": {
        "id": "WLgdLAXPS6ej"
      },
      "id": "WLgdLAXPS6ej",
      "execution_count": null,
      "outputs": []
    },
    {
      "cell_type": "code",
      "execution_count": 143,
      "id": "9bb3a749-274f-4cd4-bc5c-a77a1ae834d6",
      "metadata": {
        "id": "9bb3a749-274f-4cd4-bc5c-a77a1ae834d6"
      },
      "outputs": [],
      "source": [
        "\n",
        "class Hawk:\n",
        "  def __init__(self, fitness):\n",
        "    self.fitness = fitness\n",
        "\n",
        "  def get_fitness(self):\n",
        "    return self.fitness\n",
        "\n",
        "    \n",
        "\n"
      ]
    },
    {
      "cell_type": "code",
      "source": [
        "class Dove:\n",
        "  def __init__(self, fitness):\n",
        "    self.fitness = fitness\n",
        "\n",
        "  def get_fitness(self):\n",
        "    return self.fitness"
      ],
      "metadata": {
        "id": "44yx3aQiwHRe"
      },
      "id": "44yx3aQiwHRe",
      "execution_count": 142,
      "outputs": []
    },
    {
      "cell_type": "code",
      "source": [
        "print(len(tribe))"
      ],
      "metadata": {
        "id": "BtSpabT-Haww",
        "outputId": "94a8a635-5c0d-4cf7-a54e-81e4acd791d2",
        "colab": {
          "base_uri": "https://localhost:8080/"
        }
      },
      "id": "BtSpabT-Haww",
      "execution_count": 167,
      "outputs": [
        {
          "output_type": "stream",
          "name": "stdout",
          "text": [
            "25\n"
          ]
        }
      ]
    },
    {
      "cell_type": "code",
      "source": [
        "c = 2\n",
        "v = 3\n",
        "\n",
        "t = len(tribe)\n",
        "fh = ((v/2)-c)*(h1/t)+((v)*(1-(h1/t)))\n",
        "fd = (1-(h1/t))*(v/2)\n",
        "fa = (h1/t)*fh + (1-(h1/t)) * fd\n",
        "\n",
        "\n"
      ],
      "metadata": {
        "colab": {
          "base_uri": "https://localhost:8080/"
        },
        "id": "aLZ6ID47T3UZ",
        "outputId": "68516a31-9a53-4b62-f7a2-7c8894a60d60"
      },
      "id": "aLZ6ID47T3UZ",
      "execution_count": 257,
      "outputs": [
        {
          "output_type": "stream",
          "name": "stdout",
          "text": [
            "10\n",
            "7.5\n"
          ]
        }
      ]
    },
    {
      "cell_type": "code",
      "source": [
        "\n",
        "h1 = h1 * (fh/fa)\n",
        "d1 = d1 * (fd/fa) \n",
        "print(h1)\n",
        "print(d2)\n",
        "fh = ((v/2)-c)*(h1/t)+((v)*(1-(h1/t)))\n",
        "fd = (1-(h1/t))*(v/2)\n",
        "fa = (h1/t)*fh + (1-(h1/t)) * fd"
      ],
      "metadata": {
        "id": "zWdDzmfARJOn",
        "outputId": "6e3790c8-7ea4-404e-aa3a-1f7c82de0c78",
        "colab": {
          "base_uri": "https://localhost:8080/"
        }
      },
      "id": "zWdDzmfARJOn",
      "execution_count": 301,
      "outputs": [
        {
          "output_type": "stream",
          "name": "stdout",
          "text": [
            "20.0\n",
            "0.75\n"
          ]
        }
      ]
    },
    {
      "cell_type": "code",
      "source": [
        "ht= ht+10\n",
        "\n",
        "print(ht)"
      ],
      "metadata": {
        "id": "JRoRunbdNSMe",
        "outputId": "f26ded4b-d1d9-438c-cbe7-397325ff05f8",
        "colab": {
          "base_uri": "https://localhost:8080/"
        }
      },
      "id": "JRoRunbdNSMe",
      "execution_count": 254,
      "outputs": [
        {
          "output_type": "stream",
          "name": "stdout",
          "text": [
            "539\n"
          ]
        }
      ]
    },
    {
      "cell_type": "code",
      "source": [
        "h = hawk(fh)\n",
        "print(h.get_fitness())\n",
        "print(d.get_fitness())\n",
        "\n",
        "print(h2)\n",
        "print(d2)"
      ],
      "metadata": {
        "colab": {
          "base_uri": "https://localhost:8080/"
        },
        "id": "6rdwkdmrTTwW",
        "outputId": "cc100aca-e67e-46aa-f77a-456aa5045d63"
      },
      "id": "6rdwkdmrTTwW",
      "execution_count": 184,
      "outputs": [
        {
          "output_type": "stream",
          "name": "stdout",
          "text": [
            "1.25\n",
            "0.75\n",
            "12.5\n",
            "7.5\n"
          ]
        }
      ]
    }
  ],
  "metadata": {
    "kernelspec": {
      "display_name": "Python 3 (ipykernel)",
      "language": "python",
      "name": "python3"
    },
    "language_info": {
      "codemirror_mode": {
        "name": "ipython",
        "version": 3
      },
      "file_extension": ".py",
      "mimetype": "text/x-python",
      "name": "python",
      "nbconvert_exporter": "python",
      "pygments_lexer": "ipython3",
      "version": "3.9.7"
    },
    "colab": {
      "name": "caelan.ipynb",
      "provenance": []
    }
  },
  "nbformat": 4,
  "nbformat_minor": 5
}