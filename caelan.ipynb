{
  "cells": [
    {
      "cell_type": "code",
      "execution_count": 2,
      "id": "9bb3a749-274f-4cd4-bc5c-a77a1ae834d6",
      "metadata": {
        "id": "9bb3a749-274f-4cd4-bc5c-a77a1ae834d6",
        "outputId": "332d16e8-60cf-4e5c-e42f-5393c0a8a5cb",
        "colab": {
          "base_uri": "https://localhost:8080/"
        }
      },
      "outputs": [
        {
          "output_type": "stream",
          "name": "stdout",
          "text": [
            "good morning\n"
          ]
        }
      ],
      "source": [
        "print(\"good morning\")"
      ]
    },
    {
      "cell_type": "code",
      "source": [
        ""
      ],
      "metadata": {
        "id": "JZIfZ798RyU6"
      },
      "id": "JZIfZ798RyU6",
      "execution_count": null,
      "outputs": []
    }
  ],
  "metadata": {
    "kernelspec": {
      "display_name": "Python 3 (ipykernel)",
      "language": "python",
      "name": "python3"
    },
    "language_info": {
      "codemirror_mode": {
        "name": "ipython",
        "version": 3
      },
      "file_extension": ".py",
      "mimetype": "text/x-python",
      "name": "python",
      "nbconvert_exporter": "python",
      "pygments_lexer": "ipython3",
      "version": "3.9.7"
    },
    "colab": {
      "name": "caelan.ipynb",
      "provenance": []
    }
  },
  "nbformat": 4,
  "nbformat_minor": 5
}