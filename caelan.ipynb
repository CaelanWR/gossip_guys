{
  "cells": [
    {
      "cell_type": "code",
      "source": [
        "from random import choice\n",
        "import numpy as np"
      ],
      "metadata": {
        "id": "O2qIxQAjGzxm"
      },
      "id": "O2qIxQAjGzxm",
      "execution_count": 62,
      "outputs": []
    },
    {
      "cell_type": "code",
      "execution_count": 126,
      "id": "9bb3a749-274f-4cd4-bc5c-a77a1ae834d6",
      "metadata": {
        "id": "9bb3a749-274f-4cd4-bc5c-a77a1ae834d6"
      },
      "outputs": [],
      "source": [
        "\n",
        "class hawk:\n",
        "  def __init__(self, fitness):\n",
        "    self.fitness = fitness\n",
        "\n",
        "  def get_fitness(self):\n",
        "    return self.fitness\n",
        "\n",
        "    \n",
        "\n"
      ]
    },
    {
      "cell_type": "code",
      "source": [
        "class dove:\n",
        "  def __init__(self, fitness):\n",
        "    self.fitness = fitness\n",
        "\n",
        "  def get_fitness(self):\n",
        "    return self.fitness"
      ],
      "metadata": {
        "id": "44yx3aQiwHRe"
      },
      "id": "44yx3aQiwHRe",
      "execution_count": 125,
      "outputs": []
    },
    {
      "cell_type": "code",
      "source": [
        "c = 2\n",
        "v = 3\n",
        "h1 = 15\n",
        "d1 = 15\n",
        "t = h1 + d1\n",
        "fh = ((v/2)-c)*(h1/t)+((v)*(1-(h1/t)))\n",
        "fd = (1-(h1/t))*(v/2)\n",
        "\n",
        "\n"
      ],
      "metadata": {
        "id": "aLZ6ID47T3UZ"
      },
      "id": "aLZ6ID47T3UZ",
      "execution_count": 132,
      "outputs": []
    },
    {
      "cell_type": "code",
      "source": [
        "h = hawk(fh)\n",
        "print(h.get_fitness())\n",
        "d = dove(fd)\n",
        "print(d.get_fitness())"
      ],
      "metadata": {
        "id": "6rdwkdmrTTwW",
        "outputId": "00a7d931-ecc0-42bc-ee9a-edf3ac6949ab",
        "colab": {
          "base_uri": "https://localhost:8080/"
        }
      },
      "id": "6rdwkdmrTTwW",
      "execution_count": 134,
      "outputs": [
        {
          "output_type": "stream",
          "name": "stdout",
          "text": [
            "2.9653465346534653\n",
            "1.4851485148514851\n"
          ]
        }
      ]
    }
  ],
  "metadata": {
    "kernelspec": {
      "display_name": "Python 3 (ipykernel)",
      "language": "python",
      "name": "python3"
    },
    "language_info": {
      "codemirror_mode": {
        "name": "ipython",
        "version": 3
      },
      "file_extension": ".py",
      "mimetype": "text/x-python",
      "name": "python",
      "nbconvert_exporter": "python",
      "pygments_lexer": "ipython3",
      "version": "3.9.7"
    },
    "colab": {
      "name": "caelan.ipynb",
      "provenance": []
    }
  },
  "nbformat": 4,
  "nbformat_minor": 5
}