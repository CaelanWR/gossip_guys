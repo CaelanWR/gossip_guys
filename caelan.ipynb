{
  "cells": [
    {
      "cell_type": "code",
      "execution_count": 4,
      "id": "9bb3a749-274f-4cd4-bc5c-a77a1ae834d6",
      "metadata": {
        "id": "9bb3a749-274f-4cd4-bc5c-a77a1ae834d6",
        "outputId": "bfdb81d5-4396-4512-adf5-72a25419271f",
        "colab": {
          "base_uri": "https://localhost:8080/"
        }
      },
      "outputs": [
        {
          "output_type": "stream",
          "name": "stdout",
          "text": [
            "good morning\n"
          ]
        }
      ],
      "source": [
        "print(\"good morning\")"
      ]
    },
    {
      "cell_type": "code",
      "source": [
        "A=2"
      ],
      "metadata": {
        "id": "JZIfZ798RyU6"
      },
      "id": "JZIfZ798RyU6",
      "execution_count": 2,
      "outputs": []
    },
    {
      "cell_type": "code",
      "source": [
        "print(A)"
      ],
      "metadata": {
        "id": "A2ZIXP6QSjgC",
        "outputId": "514dfa7d-f5e3-44e4-8569-a0cceb3059ae",
        "colab": {
          "base_uri": "https://localhost:8080/"
        }
      },
      "id": "A2ZIXP6QSjgC",
      "execution_count": 3,
      "outputs": [
        {
          "output_type": "stream",
          "name": "stdout",
          "text": [
            "2\n"
          ]
        }
      ]
    },
    {
      "cell_type": "code",
      "source": [
        "C=20"
      ],
      "metadata": {
        "id": "KfYNSrRTSmYt"
      },
      "id": "KfYNSrRTSmYt",
      "execution_count": 6,
      "outputs": []
    }
  ],
  "metadata": {
    "kernelspec": {
      "display_name": "Python 3 (ipykernel)",
      "language": "python",
      "name": "python3"
    },
    "language_info": {
      "codemirror_mode": {
        "name": "ipython",
        "version": 3
      },
      "file_extension": ".py",
      "mimetype": "text/x-python",
      "name": "python",
      "nbconvert_exporter": "python",
      "pygments_lexer": "ipython3",
      "version": "3.9.7"
    },
    "colab": {
      "name": "caelan.ipynb",
      "provenance": []
    }
  },
  "nbformat": 4,
  "nbformat_minor": 5
}